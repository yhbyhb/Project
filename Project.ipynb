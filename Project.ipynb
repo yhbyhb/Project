{
 "cells": [
  {
   "cell_type": "markdown",
   "metadata": {},
   "source": [
    "# 주의사항\n",
    "제출 사이트: https://www.kaggle.com/c/titanic\n",
    "<br>\n",
    "<br>\n",
    "Kaggle 사이트 제출 횟수에 제한이 있으므로 아무 방법이나 선택하여 적용하지 말고, 강의 시간 때 들었던 내용을 토대로 어떤 알고리즘이 좋을지 생각하여 적용시키기 바랍니다. 실제 점수도 중요하지만 해당 알고리즘을 적용해본 근거가 충분하면 높은 점수를 드릴 예정입니다."
   ]
  },
  {
   "cell_type": "code",
   "execution_count": 1,
   "metadata": {},
   "outputs": [
    {
     "name": "stderr",
     "output_type": "stream",
     "text": [
      "C:\\ProgramData\\Anaconda3\\envs\\ai\\lib\\site-packages\\sklearn\\ensemble\\weight_boosting.py:29: DeprecationWarning: numpy.core.umath_tests is an internal NumPy module and should not be imported. It will be removed in a future NumPy release.\n",
      "  from numpy.core.umath_tests import inner1d\n"
     ]
    }
   ],
   "source": [
    "# 라이브러리\n",
    "import pandas as pd\n",
    "import numpy as np\n",
    "import matplotlib.pyplot as plt\n",
    "\n",
    "from sklearn.linear_model import LogisticRegression\n",
    "from sklearn.svm import SVC\n",
    "from sklearn.neighbors import KNeighborsClassifier\n",
    "from sklearn.tree import DecisionTreeClassifier\n",
    "from sklearn.ensemble import RandomForestClassifier\n",
    "from sklearn.naive_bayes import GaussianNB\n",
    "\n",
    "from sklearn.metrics import roc_curve\n",
    "from sklearn.metrics import roc_auc_score"
   ]
  },
  {
   "cell_type": "markdown",
   "metadata": {},
   "source": [
    "직접 preprocessing 과정을 결정하여 아래에 코드 작성"
   ]
  },
  {
   "cell_type": "code",
   "execution_count": 2,
   "metadata": {},
   "outputs": [],
   "source": [
    "# Preprocessing\n",
    "preprocessing_train_data = pd.read_csv('data/train.csv');\n",
    "preprocessing_test_data = pd.read_csv('data/test.csv');\n",
    "\n",
    "#직접 preprocessing 결정하여 코드 완성\n",
    "############################################################\n",
    "# \"Name\", \"Ticket\", \"Cabin\" 정보 제거\n",
    "preprocessing_train_data.drop(['Name', 'Ticket', 'Cabin', 'Embarked'], axis=1, inplace=True)\n",
    "preprocessing_test_data.drop(['Name', 'Ticket', 'Cabin','Embarked'], axis=1, inplace=True)\n",
    "\n",
    "# \"SibSp\"와 \"Parch\" 정보를 합쳐 \"FamilySize\" 생성\n",
    "preprocessing_train_data['FamilySize'] = preprocessing_train_data['SibSp'] + preprocessing_train_data['Parch']  \n",
    "preprocessing_test_data['FamilySize'] = preprocessing_test_data['SibSp'] + preprocessing_test_data['Parch'] \n",
    "\n",
    "# \"SibSp\"와 \"Parch\" 제거\n",
    "preprocessing_train_data.drop(['SibSp', 'Parch'], axis=1, inplace=True)\n",
    "preprocessing_test_data.drop(['SibSp', 'Parch'], axis=1, inplace=True)\n",
    "\n",
    "# \"Sex\" vectorization\n",
    "preprocessing_train_data.replace(['female', 'male'], [0, 1], inplace=True)\n",
    "preprocessing_test_data.replace(['female', 'male'], [0, 1], inplace=True)\n",
    "\n",
    "# 비워진 데이터 '0'으로 채우기\n",
    "preprocessing_train_data.fillna(0)\n",
    "preprocessing_test_data.fillna(0)\n",
    "preprocessing_train_data['Age'].replace([None], [0], inplace=True)  \n",
    "preprocessing_test_data['Age'].replace([None], [0], inplace=True)\n",
    "\n",
    "# Age 를 대신할 AgeBand 컬럼 생성 10살 단위로 자름.\n",
    "preprocessing_train_data.loc[preprocessing_train_data['Age'] <= 10, 'AgeBand'] = 0\n",
    "preprocessing_test_data.loc[preprocessing_test_data['Age'] <= 10, 'AgeBand'] = 0\n",
    "for i in range(1,8):\n",
    "#     print(i)\n",
    "    preprocessing_train_data.loc[preprocessing_train_data['Age'] > i*10, 'AgeBand'] = i\n",
    "    preprocessing_test_data.loc[preprocessing_test_data['Age'] > i*10, 'AgeBand'] = i\n",
    "\n",
    "preprocessing_train_data.drop(['Age'], axis=1, inplace=True)\n",
    "preprocessing_test_data.drop(['Age'], axis=1, inplace=True)\n",
    "############################################################"
   ]
  },
  {
   "cell_type": "markdown",
   "metadata": {},
   "source": [
    "위 preprocessing 결과를 바탕으로 제시한 5가지 알고리즘 적용"
   ]
  },
  {
   "cell_type": "code",
   "execution_count": 3,
   "metadata": {},
   "outputs": [],
   "source": [
    "# training을 위한 데이터 생성\n",
    "X_train = preprocessing_train_data.drop(['Survived', 'PassengerId'], axis=1)\n",
    "Y_train = preprocessing_train_data[\"Survived\"]\n",
    "X_test = preprocessing_test_data.drop(['PassengerId'], axis=1)"
   ]
  },
  {
   "cell_type": "code",
   "execution_count": 4,
   "metadata": {},
   "outputs": [
    {
     "name": "stdout",
     "output_type": "stream",
     "text": [
      "Accuracy:  95.29\n",
      "Area Under the Curve:  0.99\n"
     ]
    },
    {
     "data": {
      "image/png": "[encoded data removed]",
      "text/plain": [
       "<Figure size 432x288 with 1 Axes>"
      ]
     },
     "metadata": {},
     "output_type": "display_data"
    }
   ],
   "source": [
    "# 알고리즘 선택, 사용하고 싶은 알고리즘을 classifier로 지정하여 사용\n",
    "classifier = KNeighborsClassifier()\n",
    "classifier = LogisticRegression()\n",
    "classifier = SVC(probability=True)\n",
    "classifier = DecisionTreeClassifier()\n",
    "# classifier = RandomForestClassifier()\n",
    "# classifier = GaussianNB()\n",
    "\n",
    "# 위에서 설정한 classifier의 accuracy 및 AUC, ROC 곡선 확인\n",
    "classifier.fit(X_train, Y_train)\n",
    "accuracy = classifier.score(X_train, Y_train) * 100\n",
    "Y_train_pred = classifier.predict_proba(X_train)[:, 1]\n",
    "\n",
    "FPR, TPR, thresholds = roc_curve(Y_train, Y_train_pred)\n",
    "AUC = roc_auc_score(Y_train, Y_train_pred)\n",
    "\n",
    "plt.plot(FPR, TPR)\n",
    "print(\"Accuracy: \", \"{0:.2f}\".format(accuracy))\n",
    "print(\"Area Under the Curve: \", \"{0:.2f}\".format(AUC))"
   ]
  },
  {
   "cell_type": "code",
   "execution_count": 5,
   "metadata": {},
   "outputs": [],
   "source": [
    "# test 데이터 예측 결과 출력 및 kaggle 제출파일 생성\n",
    "predict = classifier.predict(X_test)\n",
    "predict = np.round(predict)\n",
    "\n",
    "# kaggle 제출 파일 생성\n",
    "submission = pd.DataFrame({'PassengerId': preprocessing_test_data['PassengerId'], 'Survived': predict})\n",
    "submission.to_csv('submission.csv', index=False)"
   ]
  },
  {
   "cell_type": "markdown",
   "metadata": {},
   "source": [
    "knn 함수 자료: http://scikit-learn.org/stable/modules/generated/sklearn.neighbors.KNeighborsClassifier.html\n",
    "<br>\n",
    "logistic regression 함수 자료: http://scikit-learn.org/stable/modules/generated/sklearn.linear_model.LogisticRegression.html\n",
    "<br>\n",
    "SVC 함수 자료: http://scikit-learn.org/stable/modules/generated/sklearn.svm.SVC.html\n",
    "<br>\n",
    "DecisionTree 함수 자료: http://scikit-learn.org/stable/modules/generated/sklearn.tree.DecisionTreeClassifier.html\n",
    "<br>\n",
    "RandomForest 함수 자료: http://scikit-learn.org/stable/modules/generated/sklearn.ensemble.RandomForestClassifier.html"
   ]
  },
  {
   "cell_type": "code",
   "execution_count": null,
   "metadata": {},
   "outputs": [],
   "source": []
  }
 ],
 "metadata": {
  "kernelspec": {
   "display_name": "Python 3",
   "language": "python",
   "name": "python3"
  },
  "language_info": {
   "codemirror_mode": {
    "name": "ipython",
    "version": 3
   },
   "file_extension": ".py",
   "mimetype": "text/x-python",
   "name": "python",
   "nbconvert_exporter": "python",
   "pygments_lexer": "ipython3",
   "version": "3.6.6"
  }
 },
 "nbformat": 4,
 "nbformat_minor": 1
}
